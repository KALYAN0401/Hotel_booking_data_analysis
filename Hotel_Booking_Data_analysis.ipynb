{
 "cells": [
  {
   "cell_type": "code",
   "execution_count": null,
   "id": "f09690f0",
   "metadata": {},
   "outputs": [],
   "source": [
    "import pandas as pd\n",
    "import numpy as np\n",
    "import matplotlib.pyplot as plt\n",
    "import seaborn as sns\n",
    "pd.set_option(\"display.max_columns\", None)"
   ]
  },
  {
   "cell_type": "markdown",
   "id": "2ac15259",
   "metadata": {},
   "source": [
    "# Data collecting and Preprocessing\n"
   ]
  },
  {
   "cell_type": "code",
   "execution_count": null,
   "id": "da93aedb",
   "metadata": {},
   "outputs": [],
   "source": [
    "raw_data=pd.read_csv('hotel_bookings.csv')"
   ]
  },
  {
   "cell_type": "code",
   "execution_count": null,
   "id": "ab8b05fb",
   "metadata": {},
   "outputs": [],
   "source": [
    "df=raw_data.copy()\n"
   ]
  },
  {
   "cell_type": "code",
   "execution_count": null,
   "id": "e0a3f88e",
   "metadata": {},
   "outputs": [],
   "source": [
    "df.isnull().sum()"
   ]
  },
  {
   "cell_type": "code",
   "execution_count": null,
   "id": "12e8b36f",
   "metadata": {},
   "outputs": [],
   "source": [
    "df.fillna(0,inplace=True)\n",
    "df.isnull().sum()"
   ]
  },
  {
   "cell_type": "code",
   "execution_count": null,
   "id": "2f1532c2",
   "metadata": {},
   "outputs": [],
   "source": [
    "df['children'].unique()"
   ]
  },
  {
   "cell_type": "code",
   "execution_count": null,
   "id": "a8b41cb6",
   "metadata": {},
   "outputs": [],
   "source": [
    "df['adults'].unique()"
   ]
  },
  {
   "cell_type": "code",
   "execution_count": null,
   "id": "733c4b3d",
   "metadata": {},
   "outputs": [],
   "source": [
    "df['babies'].unique()"
   ]
  },
  {
   "cell_type": "code",
   "execution_count": null,
   "id": "52906c5a",
   "metadata": {},
   "outputs": [],
   "source": [
    "filter = (df['children']==0)&(df['adults']==0)&(df['babies']==0)\n",
    "df[filter]"
   ]
  },
  {
   "cell_type": "code",
   "execution_count": null,
   "id": "4564c48c",
   "metadata": {},
   "outputs": [],
   "source": [
    "clean_data=df[~filter]\n",
    "clean_data.head()"
   ]
  },
  {
   "cell_type": "code",
   "execution_count": null,
   "id": "1bf61c1f",
   "metadata": {},
   "outputs": [],
   "source": [
    "Resort=clean_data[(clean_data['hotel']=='Resort Hotel')&(clean_data['is_canceled']==0)]\n",
    "city=clean_data[(clean_data['hotel']=='City Hotel')&(clean_data['is_canceled']==0)]"
   ]
  },
  {
   "cell_type": "code",
   "execution_count": null,
   "id": "81f15262",
   "metadata": {},
   "outputs": [],
   "source": [
    "import plotly.graph_objs as go\n",
    "import plotly.offline as iplot\n",
    "import plotly.express as px"
   ]
  },
  {
   "cell_type": "code",
   "execution_count": null,
   "id": "a893314a",
   "metadata": {},
   "outputs": [],
   "source": [
    "Resort['country'].value_counts().index"
   ]
  },
  {
   "cell_type": "code",
   "execution_count": null,
   "id": "e812c847",
   "metadata": {},
   "outputs": [],
   "source": [
    "plt.figure(figsize=(40,20))\n",
    "sns.barplot(y=Resort['country'].value_counts(),x=Resort['country'].value_counts().index)"
   ]
  },
  {
   "cell_type": "code",
   "execution_count": null,
   "id": "07f15dd9",
   "metadata": {},
   "outputs": [],
   "source": [
    "country_wise_data=clean_data[clean_data['is_canceled']==0]['country'].value_counts().reset_index()"
   ]
  },
  {
   "cell_type": "code",
   "execution_count": null,
   "id": "025e4d29",
   "metadata": {},
   "outputs": [],
   "source": [
    "country_wise_data.columns=['country','no_of_guest']"
   ]
  },
  {
   "cell_type": "code",
   "execution_count": null,
   "id": "8218932c",
   "metadata": {},
   "outputs": [],
   "source": [
    "country_wise_data"
   ]
  },
  {
   "cell_type": "code",
   "execution_count": null,
   "id": "8ee5f06d",
   "metadata": {},
   "outputs": [],
   "source": [
    "px.choropleth(country_wise_data,locations=country_wise_data['country'],color=country_wise_data['no_of_guest']\n",
    "             ,hover_name=country_wise_data['country'],title='home country of guests')"
   ]
  },
  {
   "cell_type": "code",
   "execution_count": null,
   "id": "6fde5a88",
   "metadata": {},
   "outputs": [],
   "source": [
    "plt.figure(figsize=(12,8))\n",
    "sns.boxplot(data=clean_data,x='reserved_room_type',y='adr',hue='hotel')\n",
    "plt.title('price per person on room')\n",
    "plt.ylim(-10,600)\n",
    "plt.show()"
   ]
  },
  {
   "cell_type": "code",
   "execution_count": null,
   "id": "273554e5",
   "metadata": {},
   "outputs": [],
   "source": [
    "Resort.groupby(['arrival_date_month'])['adr'].mean()"
   ]
  },
  {
   "cell_type": "code",
   "execution_count": null,
   "id": "457998a8",
   "metadata": {},
   "outputs": [],
   "source": [
    "resort=Resort.groupby(['arrival_date_month'])['adr'].mean().reset_index()"
   ]
  },
  {
   "cell_type": "code",
   "execution_count": null,
   "id": "4fd16c49",
   "metadata": {},
   "outputs": [],
   "source": [
    "city_=city.groupby(['arrival_date_month'])['adr'].mean().reset_index()"
   ]
  },
  {
   "cell_type": "code",
   "execution_count": null,
   "id": "ad990ee0",
   "metadata": {},
   "outputs": [],
   "source": [
    "final=resort.merge(city_,on='arrival_date_month')\n",
    "final"
   ]
  },
  {
   "cell_type": "code",
   "execution_count": null,
   "id": "633504ca",
   "metadata": {},
   "outputs": [],
   "source": [
    "import sort_dataframeby_monthorweek as sd"
   ]
  },
  {
   "cell_type": "code",
   "execution_count": null,
   "id": "8bb0ed84",
   "metadata": {},
   "outputs": [],
   "source": [
    "final=sd.Sort_Dataframeby_Month(df=final,monthcolumnname='arrival_date_month')"
   ]
  },
  {
   "cell_type": "code",
   "execution_count": null,
   "id": "13f219d5",
   "metadata": {},
   "outputs": [],
   "source": [
    "px.line(final,x='arrival_date_month',y=['adr_x','adr_y'])\n"
   ]
  },
  {
   "cell_type": "code",
   "execution_count": null,
   "id": "d94aa78e",
   "metadata": {},
   "outputs": [],
   "source": [
    "pd.set_option(\"display.max_columns\", None)\n",
    "clean_data.head()"
   ]
  },
  {
   "cell_type": "code",
   "execution_count": null,
   "id": "a47f04d0",
   "metadata": {},
   "outputs": [],
   "source": [
    "plt.figure(figsize=(20,12))\n",
    "sns.boxenplot(x='market_segment',y='stays_in_weekend_nights',data=clean_data,hue='hotel')\n",
    "plt.show()"
   ]
  },
  {
   "cell_type": "code",
   "execution_count": null,
   "id": "d20a8f01",
   "metadata": {},
   "outputs": [],
   "source": [
    "clean_data['meal'].value_counts().index"
   ]
  },
  {
   "cell_type": "code",
   "execution_count": null,
   "id": "a6a07e1d",
   "metadata": {},
   "outputs": [],
   "source": [
    "px.pie(data_frame=clean_data,names=clean_data['meal'].value_counts().index,values=clean_data['meal'].value_counts(),hole=0.5)"
   ]
  },
  {
   "cell_type": "code",
   "execution_count": null,
   "id": "9dbd6c19",
   "metadata": {},
   "outputs": [],
   "source": [
    "clean_data['meal'].value_counts().index"
   ]
  },
  {
   "cell_type": "code",
   "execution_count": null,
   "id": "34b27a07",
   "metadata": {},
   "outputs": [],
   "source": [
    "px.bar(data_frame=clean_data,x=clean_data['meal'].value_counts().index,y=clean_data['meal'].value_counts())\n"
   ]
  },
  {
   "cell_type": "code",
   "execution_count": null,
   "id": "aebc469c",
   "metadata": {},
   "outputs": [],
   "source": [
    "sns.countplot(x=clean_data['total_of_special_requests'])"
   ]
  },
  {
   "cell_type": "code",
   "execution_count": null,
   "id": "2c944d64",
   "metadata": {},
   "outputs": [],
   "source": [
    "df.columns"
   ]
  },
  {
   "cell_type": "code",
   "execution_count": null,
   "id": "ad9b4e7c",
   "metadata": {},
   "outputs": [],
   "source": [
    "pivot=df.groupby(['total_of_special_requests','is_canceled']).agg({'total_of_special_requests':'count'}).unstack()"
   ]
  },
  {
   "cell_type": "code",
   "execution_count": null,
   "id": "2e8d5857",
   "metadata": {},
   "outputs": [],
   "source": [
    "pivot.plot(kind='bar')"
   ]
  },
  {
   "cell_type": "code",
   "execution_count": null,
   "id": "2491bc84",
   "metadata": {},
   "outputs": [],
   "source": [
    "Resort.head()"
   ]
  },
  {
   "cell_type": "code",
   "execution_count": null,
   "id": "a368fa10",
   "metadata": {},
   "outputs": [],
   "source": [
    "rush_resort=Resort['arrival_date_month'].value_counts().reset_index()\n",
    "rush_resort.columns=['month','count']\n",
    "rush_resort"
   ]
  },
  {
   "cell_type": "code",
   "execution_count": null,
   "id": "29737753",
   "metadata": {},
   "outputs": [],
   "source": [
    "rush_city=city['arrival_date_month'].value_counts().reset_index()\n",
    "rush_city.columns=['month','count']\n",
    "rush_city"
   ]
  },
  {
   "cell_type": "code",
   "execution_count": null,
   "id": "51d0c0ed",
   "metadata": {},
   "outputs": [],
   "source": [
    "final_rush=rush_resort.merge(rush_city,on='month')"
   ]
  },
  {
   "cell_type": "code",
   "execution_count": null,
   "id": "b66ef1bb",
   "metadata": {},
   "outputs": [],
   "source": [
    "import sort_dataframeby_monthorweek as sd\n"
   ]
  },
  {
   "cell_type": "code",
   "execution_count": null,
   "id": "69729c9c",
   "metadata": {},
   "outputs": [],
   "source": [
    "final_rush=sd.Sort_Dataframeby_Month(df=final_rush,monthcolumnname='month')\n",
    "final_rush.columns=['month', 'resort', 'city']"
   ]
  },
  {
   "cell_type": "raw",
   "id": "0995d723",
   "metadata": {},
   "source": []
  },
  {
   "cell_type": "code",
   "execution_count": null,
   "id": "baa06860",
   "metadata": {},
   "outputs": [],
   "source": [
    "px.line(data_frame=final_rush,x='month',y=['resort','city'],title='no of guests per month')"
   ]
  },
  {
   "cell_type": "code",
   "execution_count": null,
   "id": "e70aa9ef",
   "metadata": {},
   "outputs": [],
   "source": [
    "clean_data.head()"
   ]
  },
  {
   "cell_type": "code",
   "execution_count": null,
   "id": "dbe58e74",
   "metadata": {},
   "outputs": [],
   "source": [
    "clean_data['total_nights']=clean_data['stays_in_weekend_nights']+clean_data['stays_in_week_nights']"
   ]
  },
  {
   "cell_type": "code",
   "execution_count": null,
   "id": "2a26ad5b",
   "metadata": {
    "scrolled": true
   },
   "outputs": [],
   "source": [
    "stay=clean_data.groupby(['total_nights','hotel']).agg('count').reset_index()\n",
    "stay=stay.iloc[:,0:3]\n",
    "stay=stay.rename(columns={'is_canceled':'number_of_stays'})\n"
   ]
  },
  {
   "cell_type": "code",
   "execution_count": null,
   "id": "36ea6a91",
   "metadata": {},
   "outputs": [],
   "source": []
  },
  {
   "cell_type": "code",
   "execution_count": null,
   "id": "aafc870d",
   "metadata": {},
   "outputs": [],
   "source": [
    "plt.figure(figsize=(20,12))\n",
    "sns.barplot(x ='total_nights',y='number_of_stays',hue='hotel',data=stay,hue_order=['City Hotel','Resort Hotel'])"
   ]
  },
  {
   "cell_type": "code",
   "execution_count": null,
   "id": "a129dfee",
   "metadata": {},
   "outputs": [],
   "source": [
    "clean_data.head()"
   ]
  },
  {
   "cell_type": "code",
   "execution_count": null,
   "id": "d4408b2f",
   "metadata": {},
   "outputs": [],
   "source": [
    "clean_data['market_segment'].value_counts().index"
   ]
  },
  {
   "cell_type": "code",
   "execution_count": null,
   "id": "e4dd9e6b",
   "metadata": {},
   "outputs": [],
   "source": [
    "px.pie(data_frame=clean_data,names=clean_data['market_segment'].value_counts().index,\n",
    "       values=clean_data['market_segment'].value_counts())"
   ]
  },
  {
   "cell_type": "code",
   "execution_count": null,
   "id": "8a0506f6",
   "metadata": {},
   "outputs": [],
   "source": [
    "clean_data.columns"
   ]
  },
  {
   "cell_type": "code",
   "execution_count": null,
   "id": "38bddcc8",
   "metadata": {},
   "outputs": [],
   "source": [
    "plt.figure(figsize=(12,8))\n",
    "sns.barplot(x='market_segment',y='adr',data=clean_data,hue='reserved_room_type')"
   ]
  },
  {
   "cell_type": "code",
   "execution_count": null,
   "id": "f5ca5526",
   "metadata": {},
   "outputs": [],
   "source": [
    "cancel=df[df['is_canceled']==1]"
   ]
  },
  {
   "cell_type": "code",
   "execution_count": null,
   "id": "301ab263",
   "metadata": {},
   "outputs": [],
   "source": [
    "resort_cancel=cancel[cancel['hotel']=='Resort Hotel']\n",
    "city_cancel=cancel[cancel['hotel']=='City Hotel']"
   ]
  },
  {
   "cell_type": "code",
   "execution_count": null,
   "id": "c48f8fc0",
   "metadata": {},
   "outputs": [],
   "source": [
    "resort_cancel.head()"
   ]
  },
  {
   "cell_type": "code",
   "execution_count": null,
   "id": "c61460a9",
   "metadata": {},
   "outputs": [],
   "source": [
    "res=resort_cancel['arrival_date_month'].value_counts().reset_index()\n",
    "res"
   ]
  },
  {
   "cell_type": "code",
   "execution_count": null,
   "id": "243bea11",
   "metadata": {},
   "outputs": [],
   "source": [
    "cit=city_cancel['arrival_date_month'].value_counts().reset_index()\n",
    "cit"
   ]
  },
  {
   "cell_type": "code",
   "execution_count": null,
   "id": "17b4d99d",
   "metadata": {},
   "outputs": [],
   "source": [
    "fin=res.merge(cit,on='index')"
   ]
  },
  {
   "cell_type": "code",
   "execution_count": null,
   "id": "5d152cee",
   "metadata": {},
   "outputs": [],
   "source": [
    "fin=fin.rename(columns={'index':'month','arrival_date_month_x':'resort_cancel','arrival_date_month_y':'city_cancel'})\n"
   ]
  },
  {
   "cell_type": "code",
   "execution_count": null,
   "id": "a0f5a4e3",
   "metadata": {},
   "outputs": [],
   "source": [
    "fin=sd.Sort_Dataframeby_Month(df=fin,monthcolumnname='month')\n",
    "fin"
   ]
  },
  {
   "cell_type": "code",
   "execution_count": null,
   "id": "a38a7c99",
   "metadata": {},
   "outputs": [],
   "source": [
    "px.line(x='month',y=['resort_cancel','city_cancel'],data_frame=fin)"
   ]
  },
  {
   "cell_type": "code",
   "execution_count": null,
   "id": "0c0e3d8c",
   "metadata": {},
   "outputs": [],
   "source": []
  },
  {
   "cell_type": "code",
   "execution_count": null,
   "id": "73de2c5b",
   "metadata": {},
   "outputs": [],
   "source": []
  }
 ],
 "metadata": {
  "kernelspec": {
   "display_name": "Python 3 (ipykernel)",
   "language": "python",
   "name": "python3"
  },
  "language_info": {
   "codemirror_mode": {
    "name": "ipython",
    "version": 3
   },
   "file_extension": ".py",
   "mimetype": "text/x-python",
   "name": "python",
   "nbconvert_exporter": "python",
   "pygments_lexer": "ipython3",
   "version": "3.9.7"
  }
 },
 "nbformat": 4,
 "nbformat_minor": 5
}
